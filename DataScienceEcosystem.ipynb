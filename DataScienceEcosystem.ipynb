{
 "cells": [
  {
   "cell_type": "markdown",
   "id": "b75a4427-e444-4fd2-a845-366a3aaa1f3d",
   "metadata": {},
   "source": [
    "# Data Science Tools and Ecosystem"
   ]
  },
  {
   "cell_type": "markdown",
   "id": "07322cca-b345-48e4-a4d0-30f147466c30",
   "metadata": {},
   "source": [
    "In this notebook, Data Science Tools and Ecosystem are summarized."
   ]
  },
  {
   "cell_type": "markdown",
   "id": "5591bd3e-35d2-4b6f-b953-9abb73cad65d",
   "metadata": {},
   "source": [
    "Some of the popular Languages that Data Scientists use are:\n",
    "1. Python\n",
    "2. Scala\n",
    "3. R\n",
    "4. SQL\n",
    "5. Ruby\n",
    "6. Julia"
   ]
  },
  {
   "cell_type": "markdown",
   "id": "9fc9606b-ce16-44e0-a24f-4e9f958e4fc9",
   "metadata": {},
   "source": [
    "Some of the commonly used libraries used by Data Scientists include:\n",
    "1. Pandas\n",
    "2. NumPy\n",
    "3. Matplotlib\n",
    "4. Seaborn\n",
    "5. Scikit-learn\n",
    "6. Keras\n",
    "7. TensorFlow\n",
    "8. PyTorch\n",
    "9. Apache Spark\n",
    "10. Scala and R"
   ]
  },
  {
   "cell_type": "markdown",
   "id": "aabcf375-047b-4382-82af-2a7b5253ad8a",
   "metadata": {},
   "source": [
    "Table for Data Science Tools:\n",
    "|Data Science Tools|\n",
    "|------------------|\n",
    "|Jupyter Notebook|\n",
    "|RStudio|\n",
    "|Apache Zeppelin|"
   ]
  },
  {
   "cell_type": "markdown",
   "id": "6920a284-5a7f-4c8d-9b84-3f33b366cda1",
   "metadata": {},
   "source": [
    "### Below are a few examples of evaluating arithmetic expressions in Python"
   ]
  },
  {
   "cell_type": "code",
   "execution_count": 8,
   "id": "21e17b97-37d4-4bde-bb91-c35367382374",
   "metadata": {},
   "outputs": [
    {
     "data": {
      "text/plain": [
       "17"
      ]
     },
     "execution_count": 8,
     "metadata": {},
     "output_type": "execute_result"
    }
   ],
   "source": [
    "(3*4)+5"
   ]
  },
  {
   "cell_type": "code",
   "execution_count": 10,
   "id": "7cae7f06-35f6-4746-8cc2-dc0a7220aea1",
   "metadata": {},
   "outputs": [
    {
     "data": {
      "text/plain": [
       "3.3333333333333335"
      ]
     },
     "execution_count": 10,
     "metadata": {},
     "output_type": "execute_result"
    }
   ],
   "source": [
    "# This will convert 200 minutes to hours by dividing by 60\n",
    "minutes = 200\n",
    "hours = minutes / 60\n",
    "hours"
   ]
  },
  {
   "cell_type": "markdown",
   "id": "c335376e-8b38-4463-9828-9f93b31b8f25",
   "metadata": {},
   "source": [
    "**Objectives:**\n",
    "- List popular languages for Data Science.\n",
    "- List common libraries used in Data Science.\n",
    "- Create and evaluate arithmetic expressions in Python.\n",
    "- Understand the tools and ecosystems for Data Science."
   ]
  },
  {
   "cell_type": "markdown",
   "id": "0df466cf-82b2-45b7-a8e6-5f6c8c388836",
   "metadata": {},
   "source": [
    "## Author\n",
    "Archana Kumari"
   ]
  },
  {
   "cell_type": "code",
   "execution_count": null,
   "id": "d5cb21fd-cf8d-480e-af50-2c5584cd086e",
   "metadata": {},
   "outputs": [],
   "source": []
  }
 ],
 "metadata": {
  "kernelspec": {
   "display_name": "Python 3 (ipykernel)",
   "language": "python",
   "name": "python3"
  },
  "language_info": {
   "codemirror_mode": {
    "name": "ipython",
    "version": 3
   },
   "file_extension": ".py",
   "mimetype": "text/x-python",
   "name": "python",
   "nbconvert_exporter": "python",
   "pygments_lexer": "ipython3",
   "version": "3.12.4"
  }
 },
 "nbformat": 4,
 "nbformat_minor": 5
}
